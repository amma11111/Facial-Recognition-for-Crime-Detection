{
  "nbformat": 4,
  "nbformat_minor": 0,
  "metadata": {
    "colab": {
      "provenance": [],
      "mount_file_id": "11BlwJEft_vrB3c20B6penRxd2nkHmz4z",
      "authorship_tag": "ABX9TyM4WsnPlSIU1B9ENQnD1H9i",
      "include_colab_link": true
    },
    "kernelspec": {
      "name": "python3",
      "display_name": "Python 3"
    },
    "language_info": {
      "name": "python"
    }
  },
  "cells": [
    {
      "cell_type": "markdown",
      "metadata": {
        "id": "view-in-github",
        "colab_type": "text"
      },
      "source": [
        "<a href=\"https://colab.research.google.com/github/amma11111/Facial-Recognition-for-Crime-Detection/blob/master/Wrong-direction-drivers-detection.ipynb\" target=\"_parent\"><img src=\"https://colab.research.google.com/assets/colab-badge.svg\" alt=\"Open In Colab\"/></a>"
      ]
    },
    {
      "cell_type": "code",
      "execution_count": 1,
      "metadata": {
        "id": "1p5m5kew4uRX",
        "colab": {
          "base_uri": "https://localhost:8080/",
          "height": 383
        },
        "outputId": "c75b8949-0f95-4e44-b187-695a7f8509cb"
      },
      "outputs": [
        {
          "output_type": "error",
          "ename": "ModuleNotFoundError",
          "evalue": "No module named 'detector_car_person'",
          "traceback": [
            "\u001b[0;31m---------------------------------------------------------------------------\u001b[0m",
            "\u001b[0;31mModuleNotFoundError\u001b[0m                       Traceback (most recent call last)",
            "\u001b[0;32m<ipython-input-1-6de6add60c63>\u001b[0m in \u001b[0;36m<cell line: 4>\u001b[0;34m()\u001b[0m\n\u001b[1;32m      2\u001b[0m \u001b[0;32mimport\u001b[0m \u001b[0mcv2\u001b[0m\u001b[0;34m\u001b[0m\u001b[0;34m\u001b[0m\u001b[0m\n\u001b[1;32m      3\u001b[0m \u001b[0;32mimport\u001b[0m \u001b[0margparse\u001b[0m\u001b[0;34m\u001b[0m\u001b[0;34m\u001b[0m\u001b[0m\n\u001b[0;32m----> 4\u001b[0;31m \u001b[0;32mfrom\u001b[0m \u001b[0mdetector_car_person\u001b[0m \u001b[0;32mimport\u001b[0m \u001b[0mYOLO\u001b[0m\u001b[0;34m,\u001b[0m \u001b[0mdetect_video\u001b[0m\u001b[0;34m\u001b[0m\u001b[0;34m\u001b[0m\u001b[0m\n\u001b[0m\u001b[1;32m      5\u001b[0m \u001b[0;32mfrom\u001b[0m \u001b[0mPIL\u001b[0m \u001b[0;32mimport\u001b[0m \u001b[0mImage\u001b[0m\u001b[0;34m\u001b[0m\u001b[0;34m\u001b[0m\u001b[0m\n\u001b[1;32m      6\u001b[0m \u001b[0;34m\u001b[0m\u001b[0m\n",
            "\u001b[0;31mModuleNotFoundError\u001b[0m: No module named 'detector_car_person'",
            "",
            "\u001b[0;31m---------------------------------------------------------------------------\u001b[0;32m\nNOTE: If your import is failing due to a missing package, you can\nmanually install dependencies using either !pip or !apt.\n\nTo view examples of installing some common dependencies, click the\n\"Open Examples\" button below.\n\u001b[0;31m---------------------------------------------------------------------------\u001b[0m\n"
          ],
          "errorDetails": {
            "actions": [
              {
                "action": "open_url",
                "actionText": "Open Examples",
                "url": "/notebooks/snippets/importing_libraries.ipynb"
              }
            ]
          }
        }
      ],
      "source": [
        "import sys\n",
        "import cv2\n",
        "import argparse\n",
        "from detector_car_person import YOLO, detect_video\n",
        "from PIL import Image\n",
        "\n",
        "def detect_img(yolo):\n",
        "    while True:\n",
        "        img = input('Input image filename:')\n",
        "        try:\n",
        "            image = Image.open(img)\n",
        "        except:\n",
        "            print('Open Error! Try again!')\n",
        "            continue\n",
        "        else:\n",
        "            r_image = yolo.detect_image(image)\n",
        "            #r_image.show()\n",
        "    yolo.close_session()\n",
        "\n",
        "FLAGS = None\n",
        "\n",
        "if __name__ == '__main__':\n",
        "    # class YOLO defines the default value, so suppress any default here\n",
        "    parser = argparse.ArgumentParser(argument_default=argparse.SUPPRESS)\n",
        "    '''\n",
        "    Command line options\n",
        "    '''\n",
        "    parser.add_argument(\n",
        "        '--model', type=str,\n",
        "        help='path to model weight file, default ' + YOLO.get_defaults(\"model_path\")\n",
        "    )\n",
        "\n",
        "    parser.add_argument(\n",
        "        '--anchors', type=str,\n",
        "        help='path to anchor definitions, default ' + YOLO.get_defaults(\"anchors_path\")\n",
        "    )\n",
        "\n",
        "    parser.add_argument(\n",
        "        '--classes', type=str,\n",
        "        help='path to class definitions, default ' + YOLO.get_defaults(\"classes_path\")\n",
        "    )\n",
        "\n",
        "    parser.add_argument(\n",
        "        '--gpu_num', type=int,\n",
        "        help='Number of GPU to use, default ' + str(YOLO.get_defaults(\"gpu_num\"))\n",
        "    )\n",
        "\n",
        "    parser.add_argument(\n",
        "        '--image', default=False, action=\"store_true\",\n",
        "        help='Image detection mode, will ignore all positional arguments'\n",
        "    )\n",
        "    '''\n",
        "    Command line positional arguments -- for video detection mode\n",
        "    '''\n",
        "    parser.add_argument(\n",
        "        \"--input\", nargs='?', type=str,required=False,default='./path2your_video',\n",
        "        help = \"Video input path\"\n",
        "    )\n",
        "\n",
        "    parser.add_argument(\n",
        "        \"--output\", nargs='?', type=str, default=\"\",\n",
        "        help = \"[Optional] Video output path\"\n",
        "    )\n",
        "\n",
        "    FLAGS = parser.parse_args()\n",
        "\n",
        "    if FLAGS.image:\n",
        "        \"\"\"\n",
        "        Image detection mode, disregard any remaining command line arguments\n",
        "        \"\"\"\n",
        "        print(\"Image detection mode\")\n",
        "        if \"input\" in FLAGS:\n",
        "            print(\" Ignoring remaining command line arguments: \" + FLAGS.input + \",\" + FLAGS.output)\n",
        "        #This function image path.\n",
        "        detect_img(YOLO(**vars(FLAGS)))\n",
        "    elif \"input\" in FLAGS:\n",
        "        detect_video(YOLO(**vars(FLAGS)), FLAGS.input, FLAGS.output)\n",
        "    else:\n",
        "        print(\"Must specify at least video_input_path.  See usage with --help.\")\n"
      ]
    }
  ]
}